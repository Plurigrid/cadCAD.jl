{
 "cells": [
  {
   "cell_type": "markdown",
   "id": "331dc02d",
   "metadata": {},
   "source": [
    "# Prey Predator Example"
   ]
  },
  {
   "cell_type": "markdown",
   "id": "8c5bab8d",
   "metadata": {},
   "source": [
    "## Import cadCAD.jl and Configure the Experiment"
   ]
  },
  {
   "cell_type": "code",
   "execution_count": null,
   "id": "3978f075",
   "metadata": {},
   "outputs": [],
   "source": []
  },
  {
   "cell_type": "markdown",
   "id": "a1cd7d4a",
   "metadata": {},
   "source": [
    "## State Update Functions"
   ]
  },
  {
   "cell_type": "code",
   "execution_count": 1,
   "id": "96ea8172",
   "metadata": {},
   "outputs": [
    {
     "ename": "LoadError",
     "evalue": "UndefVarError: State not defined",
     "output_type": "error",
     "traceback": [
      "UndefVarError: State not defined",
      "",
      "Stacktrace:",
      " [1] top-level scope",
      "   @ In[1]:1",
      " [2] eval",
      "   @ ./boot.jl:360 [inlined]",
      " [3] include_string(mapexpr::typeof(REPL.softscope), mod::Module, code::String, filename::String)",
      "   @ Base ./loading.jl:1094"
     ]
    }
   ],
   "source": [
    "function s_prey_update(state::State; timestep::Int64, substep::Int64)\n",
    "    prey_change = (PreyGrowth * state.prey_population) - (PreyDeath * state.prey_population * state.predator_population)\n",
    "    prey_pop_on_dt = state.prey_population + (prey_change * DT)\n",
    "    updated_prey_pop = prey_pop_on_dt > 0.0 ? prey_pop_on_dt : 0.0\n",
    "    State(timestep, substep, updated_prey_pop, state.predator_population)\n",
    "end\n",
    "\n",
    "function s_stochastic_prey_update(state::State; timestep::Int64, substep::Int64)\n",
    "    updated_prey_pop = state.prey_population * (1 + rand() / 1000)\n",
    "    State(timestep, substep, updated_prey_pop, state.predator_population)\n",
    "end\n",
    "\n",
    "function s_predator_update(state::State; timestep::Int64, substep::Int64)\n",
    "    predator_change = (PredatorGrowth * state.prey_population * state.predator_population) - (PredatorDeath * state.predator_population)\n",
    "    predator_pop_on_dt = state.predator_population + (predator_change * DT)\n",
    "    updated_predator_pop = predator_pop_on_dt > 0.0 ? predator_pop_on_dt : 0.0\n",
    "    State(timestep, substep, state.prey_population, updated_predator_pop)\n",
    "end"
   ]
  },
  {
   "cell_type": "markdown",
   "id": "f7b4a9d1",
   "metadata": {},
   "source": [
    "## Run the Experiment"
   ]
  },
  {
   "cell_type": "code",
   "execution_count": null,
   "id": "e82dff6b",
   "metadata": {},
   "outputs": [],
   "source": []
  },
  {
   "cell_type": "markdown",
   "id": "74039e04",
   "metadata": {},
   "source": [
    "## Analyze the Results"
   ]
  },
  {
   "cell_type": "code",
   "execution_count": null,
   "id": "1dc2f6b7",
   "metadata": {},
   "outputs": [],
   "source": []
  }
 ],
 "metadata": {
  "kernelspec": {
   "display_name": "Julia 1.6.1",
   "language": "julia",
   "name": "julia-1.6"
  },
  "language_info": {
   "file_extension": ".jl",
   "mimetype": "application/julia",
   "name": "julia",
   "version": "1.6.1"
  }
 },
 "nbformat": 4,
 "nbformat_minor": 5
}
