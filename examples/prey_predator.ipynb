{
 "cells": [
  {
   "cell_type": "markdown",
   "id": "331dc02d",
   "metadata": {},
   "source": [
    "# Prey Predator Example"
   ]
  },
  {
   "cell_type": "markdown",
   "id": "8c5bab8d",
   "metadata": {},
   "source": [
    "## Import cadCAD.jl and Model Dependencies"
   ]
  },
  {
   "cell_type": "code",
   "execution_count": null,
   "id": "3978f075",
   "metadata": {},
   "outputs": [],
   "source": [
    "using Distributions"
   ]
  },
  {
   "cell_type": "markdown",
   "id": "e660a425",
   "metadata": {},
   "source": [
    "## Configure the Experiment"
   ]
  },
  {
   "cell_type": "code",
   "execution_count": null,
   "id": "81d2af8a",
   "metadata": {},
   "outputs": [],
   "source": []
  },
  {
   "cell_type": "markdown",
   "id": "f9b45eee",
   "metadata": {},
   "source": [
    "## Policies\n"
   ]
  },
  {
   "cell_type": "code",
   "execution_count": null,
   "id": "d6cc997b",
   "metadata": {},
   "outputs": [],
   "source": []
  },
  {
   "cell_type": "markdown",
   "id": "a1cd7d4a",
   "metadata": {},
   "source": [
    "## State Update Functions"
   ]
  },
  {
   "cell_type": "code",
   "execution_count": 1,
   "id": "96ea8172",
   "metadata": {},
   "outputs": [
    {
     "ename": "LoadError",
     "evalue": "UndefVarError: State not defined",
     "output_type": "error",
     "traceback": [
      "UndefVarError: State not defined",
      "",
      "Stacktrace:",
      " [1] top-level scope",
      "   @ In[1]:1",
      " [2] eval",
      "   @ ./boot.jl:360 [inlined]",
      " [3] include_string(mapexpr::typeof(REPL.softscope), mod::Module, code::String, filename::String)",
      "   @ Base ./loading.jl:1094"
     ]
    }
   ],
   "source": []
  },
  {
   "cell_type": "markdown",
   "id": "f7b4a9d1",
   "metadata": {},
   "source": [
    "## Run the Experiment"
   ]
  },
  {
   "cell_type": "code",
   "execution_count": null,
   "id": "e82dff6b",
   "metadata": {},
   "outputs": [],
   "source": []
  },
  {
   "cell_type": "markdown",
   "id": "74039e04",
   "metadata": {},
   "source": [
    "## Analyze the Results"
   ]
  },
  {
   "cell_type": "code",
   "execution_count": null,
   "id": "1dc2f6b7",
   "metadata": {},
   "outputs": [],
   "source": []
  }
 ],
 "metadata": {
  "kernelspec": {
   "display_name": "Julia 1.6.1",
   "language": "julia",
   "name": "julia-1.6"
  },
  "language_info": {
   "file_extension": ".jl",
   "mimetype": "application/julia",
   "name": "julia",
   "version": "1.6.1"
  }
 },
 "nbformat": 4,
 "nbformat_minor": 5
}
